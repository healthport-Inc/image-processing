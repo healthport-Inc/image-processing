{
 "cells": [
  {
   "cell_type": "code",
   "execution_count": 69,
   "id": "8548588c",
   "metadata": {},
   "outputs": [],
   "source": [
    "import matplotlib\n",
    "matplotlib.use('Agg')\n",
    "%matplotlib inline\n",
    "import matplotlib.pyplot as plt\n",
    "import itertools\n",
    "\n",
    "import torch.nn as nn\n",
    "import torch.nn.functional as F\n",
    "import torchvision.transforms as transforms\n",
    "from torch.utils.data import DataLoader\n",
    "from torch.autograd import Variable\n",
    "import torch\n",
    "\n",
    "import numpy as np\n",
    "import random\n",
    "import copy\n",
    "import time\n",
    "from sklearn.model_selection import train_test_split\n",
    "\n",
    "import os\n",
    "os.environ[\"CUDA_VISIBLE_DEVICES\"] = \"0,1,2,3\"\n",
    "\n",
    "\n",
    "# from utils import CustomDataset, GANLoss, Vgg19\n",
    "# from generator import AttU_Net\n",
    "# from discriminator import Discriminator\n",
    "\n",
    "from PIL import Image, ImageOps\n",
    "device = torch.device('cuda' if torch.cuda.is_available() else 'cpu')"
   ]
  },
  {
   "cell_type": "code",
   "execution_count": 70,
   "id": "1acda9c6",
   "metadata": {},
   "outputs": [],
   "source": [
    "test_images_base_path = \"/srv/data/hamin/OCR/test_imgs/b1\"\n",
    "\n",
    "#crop_base_path = \"/srv/data/hamin/OCR/docproj/imgs/illumination/crop\"\n",
    "#scan_base_path = \"/srv/data/hamin/OCR/docproj/imgs/illumination/scan\""
   ]
  },
  {
   "cell_type": "code",
   "execution_count": 71,
   "id": "1b054dc4",
   "metadata": {},
   "outputs": [
    {
     "data": {
      "text/plain": [
       "'/srv/data/hamin/OCR/test_imgs/b1'"
      ]
     },
     "execution_count": 71,
     "metadata": {},
     "output_type": "execute_result"
    }
   ],
   "source": [
    "test_images_base_path"
   ]
  },
  {
   "cell_type": "code",
   "execution_count": 72,
   "id": "f5a217a4",
   "metadata": {},
   "outputs": [],
   "source": [
    "i = 0\n",
    "test_img_path = sorted(os.listdir(test_images_base_path))[i]"
   ]
  },
  {
   "cell_type": "code",
   "execution_count": 76,
   "id": "3b8c4059",
   "metadata": {},
   "outputs": [],
   "source": [
    "num_pixels_x, num_pixels_y, num_channels = 1024, 768, 3"
   ]
  },
  {
   "cell_type": "code",
   "execution_count": 77,
   "id": "f521dff4",
   "metadata": {},
   "outputs": [],
   "source": [
    "im = Image.open(f\"{test_images_base_path}/{test_img_path}\")\n",
    "im = ImageOps.exif_transpose(im)\n",
    "im = im.resize((num_pixels_y, num_pixels_x))\n",
    "im = np.array(im)\n"
   ]
  },
  {
   "cell_type": "code",
   "execution_count": null,
   "id": "b8e1d3bc",
   "metadata": {},
   "outputs": [],
   "source": []
  },
  {
   "cell_type": "code",
   "execution_count": null,
   "id": "8745e11d",
   "metadata": {},
   "outputs": [],
   "source": []
  },
  {
   "cell_type": "code",
   "execution_count": 5,
   "id": "c00fa1d1",
   "metadata": {},
   "outputs": [],
   "source": [
    "\n"
   ]
  },
  {
   "cell_type": "code",
   "execution_count": null,
   "id": "d9e0e506",
   "metadata": {},
   "outputs": [],
   "source": []
  },
  {
   "cell_type": "code",
   "execution_count": null,
   "id": "b6ebf76a",
   "metadata": {},
   "outputs": [],
   "source": []
  },
  {
   "cell_type": "code",
   "execution_count": null,
   "id": "fae9b4d2",
   "metadata": {},
   "outputs": [],
   "source": [
    "f, axarr = plt.subplots(1,2, figsize=(10,7))\n",
    "\n",
    "i = -6\n",
    "\n",
    "cur_orig = x_train[i]\n",
    "cur_crop = y_train[i]\n",
    "#cur_scan = scan_images[i]\n",
    "\n",
    "\n",
    "axarr[0].imshow(cur_orig)\n",
    "axarr[0].title.set_text('Original')\n",
    "\n",
    "axarr[1].imshow(cur_crop)\n",
    "axarr[1].title.set_text('Cropped')\n",
    "\n",
    "# axarr[2].imshow(cur_scan)\n",
    "# axarr[2].title.set_text('scanned')"
   ]
  },
  {
   "cell_type": "code",
   "execution_count": null,
   "id": "cc8a7e88",
   "metadata": {},
   "outputs": [],
   "source": []
  },
  {
   "cell_type": "code",
   "execution_count": 4,
   "id": "e23b3a77",
   "metadata": {},
   "outputs": [],
   "source": [
    "from models.u2net import U2NETP, U2NET"
   ]
  },
  {
   "cell_type": "code",
   "execution_count": null,
   "id": "5d133bfd",
   "metadata": {},
   "outputs": [],
   "source": []
  }
 ],
 "metadata": {
  "kernelspec": {
   "display_name": "Python 3 (ipykernel)",
   "language": "python",
   "name": "python3"
  },
  "language_info": {
   "codemirror_mode": {
    "name": "ipython",
    "version": 3
   },
   "file_extension": ".py",
   "mimetype": "text/x-python",
   "name": "python",
   "nbconvert_exporter": "python",
   "pygments_lexer": "ipython3",
   "version": "3.10.6"
  }
 },
 "nbformat": 4,
 "nbformat_minor": 5
}
